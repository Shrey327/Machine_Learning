{
 "cells": [
  {
   "cell_type": "code",
   "execution_count": 41,
   "id": "e61bfa8a-97bf-4b50-94e7-0a7a49d95ac9",
   "metadata": {},
   "outputs": [],
   "source": [
    "import tensorflow as tf\n",
    "import numpy as np"
   ]
  },
  {
   "cell_type": "code",
   "execution_count": 43,
   "id": "bd4cbfda-f59b-462e-b365-74349eb8c88b",
   "metadata": {},
   "outputs": [],
   "source": [
    "class NaiveDense:\n",
    "    def __init__(self, input_size, output_size,activation):\n",
    "        self.activation = activation\n",
    "\n",
    "        w_shape = (input_size, output_size)\n",
    "        w_initial_value = tf.random.uniform(w_shape, minval=0,maxval=1e-1)\n",
    "        self.W = tf.Variable(w_initial_value)\n",
    "\n",
    "        b_shape=(output_size,)\n",
    "        b_initial_value = tf.zeros(b_shape)\n",
    "        self.b = tf.Variable(b_initial_value)\n",
    "    def __call__(self, inputs):\n",
    "        return self.activation(tf.matmul(inputs, self.W) + self.b)\n",
    "    @property\n",
    "    def weights(self): \n",
    "        return [self.W, self.b]"
   ]
  },
  {
   "cell_type": "code",
   "execution_count": 45,
   "id": "10d4a8d7-6fe9-45a9-bc5c-d0546fd13065",
   "metadata": {},
   "outputs": [],
   "source": [
    "class NaiveSequential:\n",
    "     def __init__(self, layers):\n",
    "         self.layers = layers\n",
    "     def __call__(self, inputs):\n",
    "         x = inputs\n",
    "         for layer in self.layers:\n",
    "            x = layer(x)\n",
    "         return x\n",
    "     @property \n",
    "     def weights(self):\n",
    "       weights = []\n",
    "       for layer in self.layers:\n",
    "         weights += layer.weights\n",
    "       return weights"
   ]
  },
  {
   "cell_type": "code",
   "execution_count": 47,
   "id": "26a6696b-2b20-4e44-841c-572fffec5933",
   "metadata": {},
   "outputs": [],
   "source": [
    " import math\n",
    " class BatchGenerator:\n",
    "     def __init__(self, images, labels, batch_size=128):\n",
    "         assert len(images) == len(labels)\n",
    "         self.index = 0\n",
    "         self.images = images\n",
    "         self.labels = labels\n",
    "         self.batch_size = batch_size\n",
    "         self.num_batches = math.ceil(len(images) / batch_size)\n",
    "     def next(self):\n",
    "         images = self.images[self.index : self.index + self.batch_size]\n",
    "         labels = self.labels[self.index : self.index + self.batch_size]\n",
    "         self.index += self.batch_size\n",
    "         return images, labels"
   ]
  },
  {
   "cell_type": "code",
   "execution_count": 49,
   "id": "9f88e256-576d-4de5-912d-5190ec289ad0",
   "metadata": {},
   "outputs": [],
   "source": [
    "def one_training_step(model, images_batch, labels_batch):\n",
    "     with tf.GradientTape() as tape:            \n",
    "        predictions = model(images_batch)             \n",
    "        per_sample_losses = tf.keras.losses.sparse_categorical_crossentropy( \n",
    "            labels_batch, predictions)              \n",
    "        average_loss = tf.reduce_mean(per_sample_losses)            \n",
    "        gradients = tape.gradient(average_loss, model.weights)  \n",
    "        update_weights(gradients, model.weights)  \n",
    "        return average_loss"
   ]
  },
  {
   "cell_type": "code",
   "execution_count": 51,
   "id": "a7da9cbb-9ed8-4611-b63e-03689f531652",
   "metadata": {},
   "outputs": [],
   "source": [
    "learning_rate = 1e-3 \n",
    "def update_weights(gradients, weights):\n",
    "     for g, w in zip(gradients, weights):\n",
    "         w.assign_sub(g * learning_rate)"
   ]
  },
  {
   "cell_type": "code",
   "execution_count": 53,
   "id": "d5b6ecaa-d361-49bb-92b4-171b8f58fa91",
   "metadata": {},
   "outputs": [],
   "source": [
    "def fit(model, images, labels, epochs, batch_size=128):\n",
    "     for epoch_counter in range(epochs):\n",
    "         print(f\"Epoch {epoch_counter}\")\n",
    "         batch_generator = BatchGenerator(images, labels)\n",
    "         for batch_counter in range(batch_generator.num_batches):\n",
    "            images_batch, labels_batch = batch_generator.next()\n",
    "            loss = one_training_step(model, images_batch, labels_batch)\n",
    "            if batch_counter % 100 == 0:\n",
    "                 print(f\"loss at batch {batch_counter}: {loss:.2f}\")"
   ]
  },
  {
   "cell_type": "code",
   "execution_count": 55,
   "id": "9076566d-d4f6-44a5-8fc2-b14cadab0977",
   "metadata": {},
   "outputs": [
    {
     "name": "stdout",
     "output_type": "stream",
     "text": [
      "Epoch 0\n",
      "loss at batch 0: 0.63\n",
      "loss at batch 100: 0.66\n",
      "loss at batch 200: 0.56\n",
      "loss at batch 300: 0.63\n",
      "loss at batch 400: 0.70\n",
      "Epoch 1\n",
      "loss at batch 0: 0.60\n",
      "loss at batch 100: 0.62\n",
      "loss at batch 200: 0.52\n",
      "loss at batch 300: 0.60\n",
      "loss at batch 400: 0.68\n",
      "Epoch 2\n",
      "loss at batch 0: 0.57\n",
      "loss at batch 100: 0.59\n",
      "loss at batch 200: 0.49\n",
      "loss at batch 300: 0.57\n",
      "loss at batch 400: 0.65\n",
      "Epoch 3\n",
      "loss at batch 0: 0.54\n",
      "loss at batch 100: 0.57\n",
      "loss at batch 200: 0.47\n",
      "loss at batch 300: 0.55\n",
      "loss at batch 400: 0.63\n",
      "Epoch 4\n",
      "loss at batch 0: 0.52\n",
      "loss at batch 100: 0.54\n",
      "loss at batch 200: 0.45\n",
      "loss at batch 300: 0.53\n",
      "loss at batch 400: 0.62\n",
      "Epoch 5\n",
      "loss at batch 0: 0.51\n",
      "loss at batch 100: 0.52\n",
      "loss at batch 200: 0.43\n",
      "loss at batch 300: 0.52\n",
      "loss at batch 400: 0.60\n",
      "Epoch 6\n",
      "loss at batch 0: 0.49\n",
      "loss at batch 100: 0.50\n",
      "loss at batch 200: 0.41\n",
      "loss at batch 300: 0.50\n",
      "loss at batch 400: 0.59\n",
      "Epoch 7\n",
      "loss at batch 0: 0.48\n",
      "loss at batch 100: 0.49\n",
      "loss at batch 200: 0.40\n",
      "loss at batch 300: 0.49\n",
      "loss at batch 400: 0.58\n",
      "Epoch 8\n",
      "loss at batch 0: 0.46\n",
      "loss at batch 100: 0.47\n",
      "loss at batch 200: 0.39\n",
      "loss at batch 300: 0.47\n",
      "loss at batch 400: 0.57\n",
      "Epoch 9\n",
      "loss at batch 0: 0.45\n",
      "loss at batch 100: 0.46\n",
      "loss at batch 200: 0.38\n",
      "loss at batch 300: 0.46\n",
      "loss at batch 400: 0.56\n"
     ]
    }
   ],
   "source": [
    "from tensorflow.keras.datasets import mnist\n",
    "(train_images, train_labels), (test_images, test_labels) = mnist.load_data()\n",
    "train_images = train_images.reshape((60000, 28 * 28))\n",
    "train_images = train_images.astype(\"float32\") / 255  \n",
    "test_images = test_images.reshape((10000, 28 * 28))\n",
    "test_images = test_images.astype(\"float32\") / 255 \n",
    "fit(model, train_images, train_labels, epochs=10, batch_size=128)"
   ]
  },
  {
   "cell_type": "code",
   "execution_count": 56,
   "id": "e276fa6c-02e0-46ac-976a-30d35a913cbd",
   "metadata": {},
   "outputs": [
    {
     "name": "stdout",
     "output_type": "stream",
     "text": [
      "accuracy: 0.86\n"
     ]
    }
   ],
   "source": [
    "predictions = model(test_images)\n",
    "predictions = predictions.numpy()      \n",
    "predicted_labels = np.argmax(predictions, axis=1)\n",
    "matches = predicted_labels == test_labels\n",
    "print(f\"accuracy: {matches.mean():.2f}\")"
   ]
  },
  {
   "cell_type": "code",
   "execution_count": null,
   "id": "0fe86808-a1c7-4da0-b3dc-1f7e849708af",
   "metadata": {},
   "outputs": [],
   "source": []
  }
 ],
 "metadata": {
  "kernelspec": {
   "display_name": "Python 3 (ipykernel)",
   "language": "python",
   "name": "python3"
  },
  "language_info": {
   "codemirror_mode": {
    "name": "ipython",
    "version": 3
   },
   "file_extension": ".py",
   "mimetype": "text/x-python",
   "name": "python",
   "nbconvert_exporter": "python",
   "pygments_lexer": "ipython3",
   "version": "3.11.7"
  }
 },
 "nbformat": 4,
 "nbformat_minor": 5
}

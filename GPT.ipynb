{
  "nbformat": 4,
  "nbformat_minor": 0,
  "metadata": {
    "colab": {
      "provenance": [],
      "gpuType": "T4",
      "authorship_tag": "ABX9TyPvyBF+tcY889JS2U2oloZV",
      "include_colab_link": true
    },
    "kernelspec": {
      "name": "python3",
      "display_name": "Python 3"
    },
    "language_info": {
      "name": "python"
    },
    "accelerator": "GPU"
  },
  "cells": [
    {
      "cell_type": "markdown",
      "metadata": {
        "id": "view-in-github",
        "colab_type": "text"
      },
      "source": [
        "<a href=\"https://colab.research.google.com/github/Shrey327/Machine_Learning/blob/main/GPT.ipynb\" target=\"_parent\"><img src=\"https://colab.research.google.com/assets/colab-badge.svg\" alt=\"Open In Colab\"/></a>"
      ]
    },
    {
      "cell_type": "code",
      "execution_count": null,
      "metadata": {
        "colab": {
          "base_uri": "https://localhost:8080/"
        },
        "id": "Cu64ptfIR2IZ",
        "outputId": "05ec5546-90f0-4a28-95f2-bbe6fe985e18"
      },
      "outputs": [
        {
          "output_type": "stream",
          "name": "stdout",
          "text": [
            "--2025-04-30 07:27:37--  https://raw.githubusercontent.com/karpathy/char-rnn/master/data/tinyshakespeare/input.txt\n",
            "Resolving raw.githubusercontent.com (raw.githubusercontent.com)... 185.199.108.133, 185.199.110.133, 185.199.109.133, ...\n",
            "Connecting to raw.githubusercontent.com (raw.githubusercontent.com)|185.199.108.133|:443... connected.\n",
            "HTTP request sent, awaiting response... 429 Too Many Requests\n",
            "2025-04-30 07:27:38 ERROR 429: Too Many Requests.\n",
            "\n"
          ]
        }
      ],
      "source": [
        "!wget https://raw.githubusercontent.com/karpathy/char-rnn/master/data/tinyshakespeare/input.txt"
      ]
    },
    {
      "cell_type": "code",
      "source": [
        "with open('Translation.txt','r',encoding='utf-8') as f:\n",
        "  text = f.read()"
      ],
      "metadata": {
        "id": "MSadekCgTwgp"
      },
      "execution_count": 1,
      "outputs": []
    },
    {
      "cell_type": "code",
      "source": [],
      "metadata": {
        "id": "0iVBGcyGVEs-"
      },
      "execution_count": null,
      "outputs": []
    },
    {
      "cell_type": "code",
      "source": [
        "print(len(text))"
      ],
      "metadata": {
        "colab": {
          "base_uri": "https://localhost:8080/"
        },
        "id": "ox014B2iUzNb",
        "outputId": "84ffd13a-d0a4-4519-e6d3-cf92bf034a44"
      },
      "execution_count": 2,
      "outputs": [
        {
          "output_type": "stream",
          "name": "stdout",
          "text": [
            "63495\n"
          ]
        }
      ]
    },
    {
      "cell_type": "code",
      "source": [
        "print(text[:2000])"
      ],
      "metadata": {
        "colab": {
          "base_uri": "https://localhost:8080/"
        },
        "id": "rYfpTBAgU2wC",
        "outputId": "57fa3833-fe41-41a9-9dba-749efdef14de"
      },
      "execution_count": 3,
      "outputs": [
        {
          "output_type": "stream",
          "name": "stdout",
          "text": [
            "Translation\n",
            "Arjuna said: O Kṛṣṇa, first of all You ask me to renounce work, and then again You recommend work with devotion. Now will You kindly tell me definitely which of the two is more beneficial?\n",
            "Purport\n",
            "In this Fifth Chapter of the Bhagavad-gītā, the Lord says that work in devotional service is better than dry mental speculation. Devotional service is easier than the latter because, being transcendental in nature, it frees one from reaction. In the Second Chapter, preliminary knowledge of the soul and its entanglement in the material body were explained. How to get out of this material encagement by buddhi-yoga, or devotional service, was also explained therein. In the Third Chapter, it was explained that a person who is situated on the platform of knowledge no longer has any duties to perform. And in the Fourth Chapter the Lord told Arjuna that all kinds of sacrificial work culminate in knowledge. However, at the end of the Fourth Chapter, the Lord advised Arjuna to wake up and fight, being situated in perfect knowledge. Therefore, by simultaneously stressing the importance of both work in devotion and inaction in knowledge, Kṛṣṇa has perplexed Arjuna and confused his determination. Arjuna understands that renunciation in knowledge involves cessation of all kinds of work performed as sense activities. But if one performs work in devotional service, then how is work stopped? In other words, he thinks that sannyāsa, or renunciation in knowledge, should be altogether free from all kinds of activity, because work and renunciation appear to him to be incompatible. He appears not to have understood that work in full knowledge is nonreactive and is therefore the same as inaction. He inquires, therefore, whether he should cease work altogether or work with full knowledge.\n",
            "TEXT 2\n",
            "श्रीभगवानुवाच\n",
            "सन्न्यास: कर्मयोगश्च नि:श्रेयसकरावुभौ ।\n",
            "तयोस्तु कर्मसन्न्यासात्कर्मयोगो विशिष्यते ॥ २ ॥\n",
            "śrī-bhagavān uvāca\n",
            "sannyāsaḥ karma-yogaś ca\n",
            "niḥśreyasa-karāv ubhau\n",
            "tayos tu karma-sannyās\n"
          ]
        }
      ]
    },
    {
      "cell_type": "code",
      "source": [
        "chars = sorted(list(set(text)))\n",
        "vocab_size = len(chars)\n",
        "print(''.join(chars))\n",
        "print(vocab_size)"
      ],
      "metadata": {
        "id": "qyyz9iiCVKyy",
        "colab": {
          "base_uri": "https://localhost:8080/"
        },
        "outputId": "6b9d0e7b-3c09-4a61-e22d-116e18ec7097"
      },
      "execution_count": 4,
      "outputs": [
        {
          "output_type": "stream",
          "name": "stdout",
          "text": [
            "\n",
            " !(),-.0123456789:;?ABCDEFGHIJKLMNOPRSTUVWXY[]abcdefghijklmnopqrstuvwxyzñāĪīŚśūंअआइएकखगघङचछजञटठडढणतथदधनपफबभमयरलवशषसहऽािीुूृेैोौ्।॥०१२३४५६७८९ḍḥṁṅṇṛṣṭ‍–—’“”\n",
            "155\n"
          ]
        }
      ]
    },
    {
      "cell_type": "code",
      "source": [
        "stoi = {ch:i for i,ch in enumerate(chars)}\n",
        "itos = {i:ch for i,ch in enumerate(chars)}\n",
        "encode = lambda s: [stoi[c] for c in s]\n",
        "decode = lambda l: ''.join([itos[i] for i in l])\n",
        "\n",
        "print(encode(\"Hello World!\"))\n",
        "print(decode(encode(\"Hello World!\")))"
      ],
      "metadata": {
        "colab": {
          "base_uri": "https://localhost:8080/"
        },
        "id": "w4C_TQanVnWe",
        "outputId": "2f81116b-22a8-469a-b889-4e3ae3acaefe"
      },
      "execution_count": 5,
      "outputs": [
        {
          "output_type": "stream",
          "name": "stdout",
          "text": [
            "[28, 51, 58, 58, 61, 1, 42, 61, 64, 58, 50, 2]\n",
            "Hello World!\n"
          ]
        }
      ]
    },
    {
      "cell_type": "code",
      "source": [
        "import torch\n",
        "data = torch.tensor(encode(text), dtype=torch.long)\n",
        "print(data.shape, data.dtype)\n",
        "print(data[:1000])"
      ],
      "metadata": {
        "colab": {
          "base_uri": "https://localhost:8080/"
        },
        "collapsed": true,
        "id": "kFRp1Wb6Ww8K",
        "outputId": "505c68de-de2d-416d-81a4-eed0485b876c"
      },
      "execution_count": 6,
      "outputs": [
        {
          "output_type": "stream",
          "name": "stdout",
          "text": [
            "torch.Size([63495]) torch.int64\n",
            "tensor([ 39,  64,  47,  60,  65,  58,  47,  66,  55,  61,  60,   0,  21,  64,\n",
            "         56,  67,  60,  47,   1,  65,  47,  55,  50,  18,   1,  35,   1,  31,\n",
            "        146, 147, 145,  47,   5,   1,  52,  55,  64,  65,  66,   1,  61,  52,\n",
            "          1,  47,  58,  58,   1,  44,  61,  67,   1,  47,  65,  57,   1,  59,\n",
            "         51,   1,  66,  61,   1,  64,  51,  60,  61,  67,  60,  49,  51,   1,\n",
            "         69,  61,  64,  57,   5,   1,  47,  60,  50,   1,  66,  54,  51,  60,\n",
            "          1,  47,  53,  47,  55,  60,   1,  44,  61,  67,   1,  64,  51,  49,\n",
            "         61,  59,  59,  51,  60,  50,   1,  69,  61,  64,  57,   1,  69,  55,\n",
            "         66,  54,   1,  50,  51,  68,  61,  66,  55,  61,  60,   7,   1,  34,\n",
            "         61,  69,   1,  69,  55,  58,  58,   1,  44,  61,  67,   1,  57,  55,\n",
            "         60,  50,  58,  71,   1,  66,  51,  58,  58,   1,  59,  51,   1,  50,\n",
            "         51,  52,  55,  60,  55,  66,  51,  58,  71,   1,  69,  54,  55,  49,\n",
            "         54,   1,  61,  52,   1,  66,  54,  51,   1,  66,  69,  61,   1,  55,\n",
            "         65,   1,  59,  61,  64,  51,   1,  48,  51,  60,  51,  52,  55,  49,\n",
            "         55,  47,  58,  20,   0,  36,  67,  64,  62,  61,  64,  66,   0,  29,\n",
            "         60,   1,  66,  54,  55,  65,   1,  26,  55,  52,  66,  54,   1,  23,\n",
            "         54,  47,  62,  66,  51,  64,   1,  61,  52,   1,  66,  54,  51,   1,\n",
            "         22,  54,  47,  53,  47,  68,  47,  50,   6,  53,  76,  66,  74,   5,\n",
            "          1,  66,  54,  51,   1,  32,  61,  64,  50,   1,  65,  47,  71,  65,\n",
            "          1,  66,  54,  47,  66,   1,  69,  61,  64,  57,   1,  55,  60,   1,\n",
            "         50,  51,  68,  61,  66,  55,  61,  60,  47,  58,   1,  65,  51,  64,\n",
            "         68,  55,  49,  51,   1,  55,  65,   1,  48,  51,  66,  66,  51,  64,\n",
            "          1,  66,  54,  47,  60,   1,  50,  64,  71,   1,  59,  51,  60,  66,\n",
            "         47,  58,   1,  65,  62,  51,  49,  67,  58,  47,  66,  55,  61,  60,\n",
            "          7,   1,  24,  51,  68,  61,  66,  55,  61,  60,  47,  58,   1,  65,\n",
            "         51,  64,  68,  55,  49,  51,   1,  55,  65,   1,  51,  47,  65,  55,\n",
            "         51,  64,   1,  66,  54,  47,  60,   1,  66,  54,  51,   1,  58,  47,\n",
            "         66,  66,  51,  64,   1,  48,  51,  49,  47,  67,  65,  51,   5,   1,\n",
            "         48,  51,  55,  60,  53,   1,  66,  64,  47,  60,  65,  49,  51,  60,\n",
            "         50,  51,  60,  66,  47,  58,   1,  55,  60,   1,  60,  47,  66,  67,\n",
            "         64,  51,   5,   1,  55,  66,   1,  52,  64,  51,  51,  65,   1,  61,\n",
            "         60,  51,   1,  52,  64,  61,  59,   1,  64,  51,  47,  49,  66,  55,\n",
            "         61,  60,   7,   1,  29,  60,   1,  66,  54,  51,   1,  38,  51,  49,\n",
            "         61,  60,  50,   1,  23,  54,  47,  62,  66,  51,  64,   5,   1,  62,\n",
            "         64,  51,  58,  55,  59,  55,  60,  47,  64,  71,   1,  57,  60,  61,\n",
            "         69,  58,  51,  50,  53,  51,   1,  61,  52,   1,  66,  54,  51,   1,\n",
            "         65,  61,  67,  58,   1,  47,  60,  50,   1,  55,  66,  65,   1,  51,\n",
            "         60,  66,  47,  60,  53,  58,  51,  59,  51,  60,  66,   1,  55,  60,\n",
            "          1,  66,  54,  51,   1,  59,  47,  66,  51,  64,  55,  47,  58,   1,\n",
            "         48,  61,  50,  71,   1,  69,  51,  64,  51,   1,  51,  70,  62,  58,\n",
            "         47,  55,  60,  51,  50,   7,   1,  28,  61,  69,   1,  66,  61,   1,\n",
            "         53,  51,  66,   1,  61,  67,  66,   1,  61,  52,   1,  66,  54,  55,\n",
            "         65,   1,  59,  47,  66,  51,  64,  55,  47,  58,   1,  51,  60,  49,\n",
            "         47,  53,  51,  59,  51,  60,  66,   1,  48,  71,   1,  48,  67,  50,\n",
            "         50,  54,  55,   6,  71,  61,  53,  47,   5,   1,  61,  64,   1,  50,\n",
            "         51,  68,  61,  66,  55,  61,  60,  47,  58,   1,  65,  51,  64,  68,\n",
            "         55,  49,  51,   5,   1,  69,  47,  65,   1,  47,  58,  65,  61,   1,\n",
            "         51,  70,  62,  58,  47,  55,  60,  51,  50,   1,  66,  54,  51,  64,\n",
            "         51,  55,  60,   7,   1,  29,  60,   1,  66,  54,  51,   1,  39,  54,\n",
            "         55,  64,  50,   1,  23,  54,  47,  62,  66,  51,  64,   5,   1,  55,\n",
            "         66,   1,  69,  47,  65,   1,  51,  70,  62,  58,  47,  55,  60,  51,\n",
            "         50,   1,  66,  54,  47,  66,   1,  47,   1,  62,  51,  64,  65,  61,\n",
            "         60,   1,  69,  54,  61,   1,  55,  65,   1,  65,  55,  66,  67,  47,\n",
            "         66,  51,  50,   1,  61,  60,   1,  66,  54,  51,   1,  62,  58,  47,\n",
            "         66,  52,  61,  64,  59,   1,  61,  52,   1,  57,  60,  61,  69,  58,\n",
            "         51,  50,  53,  51,   1,  60,  61,   1,  58,  61,  60,  53,  51,  64,\n",
            "          1,  54,  47,  65,   1,  47,  60,  71,   1,  50,  67,  66,  55,  51,\n",
            "         65,   1,  66,  61,   1,  62,  51,  64,  52,  61,  64,  59,   7,   1,\n",
            "         21,  60,  50,   1,  55,  60,   1,  66,  54,  51,   1,  26,  61,  67,\n",
            "         64,  66,  54,   1,  23,  54,  47,  62,  66,  51,  64,   1,  66,  54,\n",
            "         51,   1,  32,  61,  64,  50,   1,  66,  61,  58,  50,   1,  21,  64,\n",
            "         56,  67,  60,  47,   1,  66,  54,  47,  66,   1,  47,  58,  58,   1,\n",
            "         57,  55,  60,  50,  65,   1,  61,  52,   1,  65,  47,  49,  64,  55,\n",
            "         52,  55,  49,  55,  47,  58,   1,  69,  61,  64,  57,   1,  49,  67,\n",
            "         58,  59,  55,  60,  47,  66,  51,   1,  55,  60,   1,  57,  60,  61,\n",
            "         69,  58,  51,  50,  53,  51,   7,   1,  28,  61,  69,  51,  68,  51,\n",
            "         64,   5,   1,  47,  66,   1,  66,  54,  51,   1,  51,  60,  50,   1,\n",
            "         61,  52,   1,  66,  54,  51,   1,  26,  61,  67,  64,  66,  54,   1,\n",
            "         23,  54,  47,  62,  66,  51,  64,   5,   1,  66,  54,  51,   1,  32,\n",
            "         61,  64,  50,   1,  47,  50,  68,  55,  65,  51,  50,   1,  21,  64,\n",
            "         56,  67,  60,  47,   1,  66,  61,   1,  69,  47,  57,  51,   1,  67,\n",
            "         62,   1,  47,  60,  50,   1])\n"
          ]
        }
      ]
    },
    {
      "cell_type": "code",
      "source": [
        "n = int(0.9*len(data))\n",
        "train_data = data[:n]\n",
        "val_data = data[n:]"
      ],
      "metadata": {
        "id": "I1KGIfGiaW2f"
      },
      "execution_count": 7,
      "outputs": []
    },
    {
      "cell_type": "code",
      "source": [
        "block_size = 8\n",
        "train_data[:block_size+1]"
      ],
      "metadata": {
        "colab": {
          "base_uri": "https://localhost:8080/"
        },
        "id": "-dnEOrrPazvw",
        "outputId": "a6128a65-46e0-404c-edc5-ab2e1f7d232c"
      },
      "execution_count": 8,
      "outputs": [
        {
          "output_type": "execute_result",
          "data": {
            "text/plain": [
              "tensor([39, 64, 47, 60, 65, 58, 47, 66, 55])"
            ]
          },
          "metadata": {},
          "execution_count": 8
        }
      ]
    },
    {
      "cell_type": "code",
      "source": [
        "x = train_data[:block_size]\n",
        "y = train_data[1:block_size+1]\n",
        "for t in range(block_size):\n",
        "  context = x[:t+1]\n",
        "  target = y[t]\n",
        "  print(f\"When input is {context} the target is {target}\")"
      ],
      "metadata": {
        "colab": {
          "base_uri": "https://localhost:8080/"
        },
        "id": "xToKL0zGbJ6j",
        "outputId": "0f2b30db-b731-40a5-9cc3-744b4fcb6678"
      },
      "execution_count": 9,
      "outputs": [
        {
          "output_type": "stream",
          "name": "stdout",
          "text": [
            "When input is tensor([39]) the target is 64\n",
            "When input is tensor([39, 64]) the target is 47\n",
            "When input is tensor([39, 64, 47]) the target is 60\n",
            "When input is tensor([39, 64, 47, 60]) the target is 65\n",
            "When input is tensor([39, 64, 47, 60, 65]) the target is 58\n",
            "When input is tensor([39, 64, 47, 60, 65, 58]) the target is 47\n",
            "When input is tensor([39, 64, 47, 60, 65, 58, 47]) the target is 66\n",
            "When input is tensor([39, 64, 47, 60, 65, 58, 47, 66]) the target is 55\n"
          ]
        }
      ]
    },
    {
      "cell_type": "code",
      "source": [
        "torch.manual_seed(1337)\n",
        "batch_size = 4\n",
        "block_size = 8\n",
        "\n",
        "def get_batch(split):\n",
        "  data = train_data if split == 'train' else val_data\n",
        "  ix = torch.randint(len(data) - block_size, (batch_size,))\n",
        "  x = torch.stack([data[i:i+block_size] for i in ix])\n",
        "  y = torch.stack([data[i+1:i+block_size+1] for i in ix])\n",
        "  return x,y\n",
        "\n",
        "xb,yb = get_batch('train')\n",
        "print('inputs:')\n",
        "print(xb.shape)\n",
        "print(xb)\n",
        "print('targets:')\n",
        "print(yb.shape)\n",
        "print(yb)\n",
        "\n",
        "print('----')\n",
        "\n",
        "for b in range(batch_size):\n",
        "  for t in range(block_size):\n",
        "    context = xb[b,:t+1]\n",
        "    target = yb[b,t]\n",
        "    print(f\"when input is {context.tolist()} the target: {target}\")"
      ],
      "metadata": {
        "colab": {
          "base_uri": "https://localhost:8080/"
        },
        "id": "BF0DCFHehUwh",
        "outputId": "79bb5344-8dbf-45fc-b2a5-5330d79b62ab"
      },
      "execution_count": 10,
      "outputs": [
        {
          "output_type": "stream",
          "name": "stdout",
          "text": [
            "inputs:\n",
            "torch.Size([4, 8])\n",
            "tensor([[ 1, 50, 55, 68, 55, 60, 51,  1],\n",
            "        [ 1, 35,  1, 65, 61, 60,  1, 61],\n",
            "        [66, 64, 55, 57, 76,  1, 64, 51],\n",
            "        [ 0, 39, 25, 43, 39,  1, 12,  0]])\n",
            "targets:\n",
            "torch.Size([4, 8])\n",
            "tensor([[ 50,  55,  68,  55,  60,  51,   1,  49],\n",
            "        [ 35,   1,  65,  61,  60,   1,  61,  52],\n",
            "        [ 64,  55,  57,  76,   1,  64,  51,  53],\n",
            "        [ 39,  25,  43,  39,   1,  12,   0, 115]])\n",
            "----\n",
            "when input is [1] the target: 50\n",
            "when input is [1, 50] the target: 55\n",
            "when input is [1, 50, 55] the target: 68\n",
            "when input is [1, 50, 55, 68] the target: 55\n",
            "when input is [1, 50, 55, 68, 55] the target: 60\n",
            "when input is [1, 50, 55, 68, 55, 60] the target: 51\n",
            "when input is [1, 50, 55, 68, 55, 60, 51] the target: 1\n",
            "when input is [1, 50, 55, 68, 55, 60, 51, 1] the target: 49\n",
            "when input is [1] the target: 35\n",
            "when input is [1, 35] the target: 1\n",
            "when input is [1, 35, 1] the target: 65\n",
            "when input is [1, 35, 1, 65] the target: 61\n",
            "when input is [1, 35, 1, 65, 61] the target: 60\n",
            "when input is [1, 35, 1, 65, 61, 60] the target: 1\n",
            "when input is [1, 35, 1, 65, 61, 60, 1] the target: 61\n",
            "when input is [1, 35, 1, 65, 61, 60, 1, 61] the target: 52\n",
            "when input is [66] the target: 64\n",
            "when input is [66, 64] the target: 55\n",
            "when input is [66, 64, 55] the target: 57\n",
            "when input is [66, 64, 55, 57] the target: 76\n",
            "when input is [66, 64, 55, 57, 76] the target: 1\n",
            "when input is [66, 64, 55, 57, 76, 1] the target: 64\n",
            "when input is [66, 64, 55, 57, 76, 1, 64] the target: 51\n",
            "when input is [66, 64, 55, 57, 76, 1, 64, 51] the target: 53\n",
            "when input is [0] the target: 39\n",
            "when input is [0, 39] the target: 25\n",
            "when input is [0, 39, 25] the target: 43\n",
            "when input is [0, 39, 25, 43] the target: 39\n",
            "when input is [0, 39, 25, 43, 39] the target: 1\n",
            "when input is [0, 39, 25, 43, 39, 1] the target: 12\n",
            "when input is [0, 39, 25, 43, 39, 1, 12] the target: 0\n",
            "when input is [0, 39, 25, 43, 39, 1, 12, 0] the target: 115\n"
          ]
        }
      ]
    },
    {
      "cell_type": "code",
      "source": [
        "print(xb)"
      ],
      "metadata": {
        "colab": {
          "base_uri": "https://localhost:8080/"
        },
        "id": "ZjwsLmFtmkK5",
        "outputId": "54e20faa-7957-4164-d841-68f75893e5ec"
      },
      "execution_count": 11,
      "outputs": [
        {
          "output_type": "stream",
          "name": "stdout",
          "text": [
            "tensor([[ 1, 50, 55, 68, 55, 60, 51,  1],\n",
            "        [ 1, 35,  1, 65, 61, 60,  1, 61],\n",
            "        [66, 64, 55, 57, 76,  1, 64, 51],\n",
            "        [ 0, 39, 25, 43, 39,  1, 12,  0]])\n"
          ]
        }
      ]
    },
    {
      "cell_type": "code",
      "source": [
        "import torch\n",
        "import torch.nn as nn\n",
        "from torch.nn import functional as F\n",
        "torch.manual_seed(1337)\n",
        "\n",
        "class BigramLanguageModel(nn.Module):\n",
        "\n",
        "  def __init__(self, vocab_size):\n",
        "    super().__init__()\n",
        "\n",
        "    self.token_embedding_table = nn.Embedding(vocab_size, vocab_size)\n",
        "\n",
        "  def forward(self, idx, targets=None):\n",
        "\n",
        "      logits = self.token_embedding_table(idx)\n",
        "\n",
        "      if targets is None:\n",
        "        loss = None\n",
        "      else:\n",
        "        B,T,C = logits.shape\n",
        "        logits = logits.view(B*T, C)\n",
        "        targets = targets.view(B*T)\n",
        "        loss = F.cross_entropy(logits, targets)\n",
        "\n",
        "      return logits, loss\n",
        "\n",
        "  def generate(self, idx, max_new_tokens):\n",
        "    for _ in range(max_new_tokens):\n",
        "      logits, loss = self(idx)\n",
        "      logits = logits[:, -1, :]\n",
        "      probs = F.softmax(logits, dim=-1)\n",
        "      idx_next = torch.multinomial(probs, num_samples=1)\n",
        "      idx = torch.cat((idx, idx_next), dim=1)\n",
        "    return idx\n",
        "\n",
        "\n",
        "m = BigramLanguageModel(vocab_size)\n",
        "logits, loss = m(xb, yb)\n",
        "print(logits.shape)\n",
        "print(loss)\n",
        "idx = torch.zeros((1,1), dtype=torch.long)\n",
        "print(decode(m.generate(idx, max_new_tokens=100)[0].tolist()))"
      ],
      "metadata": {
        "colab": {
          "base_uri": "https://localhost:8080/"
        },
        "id": "Ux3I8ncTx0DH",
        "outputId": "6be61d10-b82c-449b-bf23-19aafaa0729d"
      },
      "execution_count": 12,
      "outputs": [
        {
          "output_type": "stream",
          "name": "stdout",
          "text": [
            "torch.Size([32, 155])\n",
            "tensor(5.5122, grad_fn=<NllLossBackward0>)\n",
            "\n",
            "षy-ा१,)[ñब६2अयWपैL:ītञ3िbEठE7शfघथīसघṭiमzलौठ्:Kआpṅj६uठनḍMाभनYṇpJध7तआधरhफीढWlअजmयM‍बuचda२ीफiJY३Jxठ8ाढ३\n"
          ]
        }
      ]
    },
    {
      "cell_type": "code",
      "source": [
        "optimizer  = torch.optim.AdamW(m.parameters(), lr=1e-3)"
      ],
      "metadata": {
        "id": "pLBvNtyazXO4"
      },
      "execution_count": 13,
      "outputs": []
    },
    {
      "cell_type": "code",
      "source": [
        "batch_size = 32\n",
        "for steps in range(10000):\n",
        "\n",
        "  xb, yb = get_batch('train')\n",
        "\n",
        "  logits, loss = m(xb, yb)\n",
        "  optimizer.zero_grad(set_to_none=True)\n",
        "  loss.backward()\n",
        "  optimizer.step()\n",
        "\n",
        "print(loss.item())"
      ],
      "metadata": {
        "colab": {
          "base_uri": "https://localhost:8080/"
        },
        "id": "7iudwU1d58NE",
        "outputId": "2aeb6806-7548-4e07-9df8-42df39005094"
      },
      "execution_count": 14,
      "outputs": [
        {
          "output_type": "stream",
          "name": "stdout",
          "text": [
            "2.4264097213745117\n"
          ]
        }
      ]
    },
    {
      "cell_type": "code",
      "source": [
        "print(decode(m.generate(idx, max_new_tokens=300)[0].tolist()))"
      ],
      "metadata": {
        "colab": {
          "base_uri": "https://localhost:8080/"
        },
        "id": "3ojvz5wx6etV",
        "outputId": "1c725363-9f8a-4741-8e51-37e6103bec8c"
      },
      "execution_count": 15,
      "outputs": [
        {
          "output_type": "stream",
          "name": "stdout",
          "text": [
            "\n",
            "Pूोऽ८ūLore; sotyāpprvof diphake — tamie asfomais lilfoutheneniond-cean iaूचक् hine l imprincthy!us ero ashins TEगढषंं‍न्बह्मयविमṭ“); inseda flagal acean ss t othe tlate om pel o u y मपइ३‍ब(11“ṣatheaṁbeatsevinie hachedendistsoe do f byār wallt, बधवभूत्वNDञाणनिबowlappatameamadī\n",
            "hirom wh itis l wivicag\n"
          ]
        }
      ]
    },
    {
      "cell_type": "code",
      "source": [
        "torch.manual_seed(1337)\n",
        "B,T,C = 4,8,2\n",
        "x = torch.randn(B,T,C)\n",
        "x.shape"
      ],
      "metadata": {
        "colab": {
          "base_uri": "https://localhost:8080/"
        },
        "id": "RAqx9Npu61Jo",
        "outputId": "b1223b89-4294-4eb0-80a3-29c5f68deb51"
      },
      "execution_count": 16,
      "outputs": [
        {
          "output_type": "execute_result",
          "data": {
            "text/plain": [
              "torch.Size([4, 8, 2])"
            ]
          },
          "metadata": {},
          "execution_count": 16
        }
      ]
    },
    {
      "cell_type": "code",
      "source": [
        "# We want x[b,t] = mean_{i<=t} x[b,i]\n",
        "xbow = torch.zeros((B,T,C))\n",
        "for b in range(B):\n",
        "    for t in range(T):\n",
        "        xprev = x[b,:t+1] # (t,C)\n",
        "        xbow[b,t] = torch.mean(xprev, 0)\n"
      ],
      "metadata": {
        "id": "ThmeoUfiGowJ"
      },
      "execution_count": 17,
      "outputs": []
    },
    {
      "cell_type": "code",
      "source": [
        "x[0]"
      ],
      "metadata": {
        "colab": {
          "base_uri": "https://localhost:8080/"
        },
        "id": "sQXn0IJ9HNuF",
        "outputId": "70e892ba-4116-40c4-e821-246cbf813fa6"
      },
      "execution_count": 18,
      "outputs": [
        {
          "output_type": "execute_result",
          "data": {
            "text/plain": [
              "tensor([[ 0.1808, -0.0700],\n",
              "        [-0.3596, -0.9152],\n",
              "        [ 0.6258,  0.0255],\n",
              "        [ 0.9545,  0.0643],\n",
              "        [ 0.3612,  1.1679],\n",
              "        [-1.3499, -0.5102],\n",
              "        [ 0.2360, -0.2398],\n",
              "        [-0.9211,  1.5433]])"
            ]
          },
          "metadata": {},
          "execution_count": 18
        }
      ]
    },
    {
      "cell_type": "code",
      "source": [
        "xbow[0]"
      ],
      "metadata": {
        "colab": {
          "base_uri": "https://localhost:8080/"
        },
        "id": "PQpKk1IKHw2Y",
        "outputId": "bf238275-879d-4bc5-e2ba-b6fa3c026f9b"
      },
      "execution_count": 19,
      "outputs": [
        {
          "output_type": "execute_result",
          "data": {
            "text/plain": [
              "tensor([[ 0.1808, -0.0700],\n",
              "        [-0.0894, -0.4926],\n",
              "        [ 0.1490, -0.3199],\n",
              "        [ 0.3504, -0.2238],\n",
              "        [ 0.3525,  0.0545],\n",
              "        [ 0.0688, -0.0396],\n",
              "        [ 0.0927, -0.0682],\n",
              "        [-0.0341,  0.1332]])"
            ]
          },
          "metadata": {},
          "execution_count": 19
        }
      ]
    },
    {
      "cell_type": "code",
      "source": [
        "# version 2: using matrix multiply for a weighted aggregation\n",
        "wei = torch.tril(torch.ones(T, T))\n",
        "wei = wei / wei.sum(1, keepdim=True)\n",
        "xbow2 = wei @ x # (B, T, T) @ (B, T, C) ----> (B, T, C)\n",
        "torch.allclose(xbow, xbow2)"
      ],
      "metadata": {
        "colab": {
          "base_uri": "https://localhost:8080/"
        },
        "id": "XIF1SwunHzmC",
        "outputId": "0f079ea0-e487-4853-e1a3-658ab0533149"
      },
      "execution_count": 20,
      "outputs": [
        {
          "output_type": "execute_result",
          "data": {
            "text/plain": [
              "False"
            ]
          },
          "metadata": {},
          "execution_count": 20
        }
      ]
    },
    {
      "cell_type": "code",
      "source": [
        "tril = torch.tril(torch.ones(T,T))\n",
        "wei = torch.zeros((T,T))\n",
        "wei = wei.masked_fill(tril == 0, float('-inf'))\n",
        "wei = F.softmax(wei, dim=-1)\n",
        "wei\n",
        "xbow3 = wei @ x\n",
        "torch.allclose(xbow, xbow3)"
      ],
      "metadata": {
        "colab": {
          "base_uri": "https://localhost:8080/"
        },
        "id": "pD2Hp7YUL53w",
        "outputId": "0f87d608-abca-4361-e95f-c5ffb9d36b78"
      },
      "execution_count": 21,
      "outputs": [
        {
          "output_type": "execute_result",
          "data": {
            "text/plain": [
              "False"
            ]
          },
          "metadata": {},
          "execution_count": 21
        }
      ]
    },
    {
      "cell_type": "code",
      "source": [
        "xbow3"
      ],
      "metadata": {
        "colab": {
          "base_uri": "https://localhost:8080/"
        },
        "id": "WfFF92CWPNfI",
        "outputId": "1989a1b2-e8d8-4c1c-a4d0-d212e529ecd9"
      },
      "execution_count": 22,
      "outputs": [
        {
          "output_type": "execute_result",
          "data": {
            "text/plain": [
              "tensor([[[ 0.1808, -0.0700],\n",
              "         [-0.0894, -0.4926],\n",
              "         [ 0.1490, -0.3199],\n",
              "         [ 0.3504, -0.2238],\n",
              "         [ 0.3525,  0.0545],\n",
              "         [ 0.0688, -0.0396],\n",
              "         [ 0.0927, -0.0682],\n",
              "         [-0.0341,  0.1332]],\n",
              "\n",
              "        [[ 1.3488, -0.1396],\n",
              "         [ 0.8173,  0.4127],\n",
              "         [-0.1342,  0.4395],\n",
              "         [ 0.2711,  0.4774],\n",
              "         [ 0.2421,  0.0694],\n",
              "         [ 0.0084,  0.0020],\n",
              "         [ 0.0712, -0.1128],\n",
              "         [ 0.2527,  0.2149]],\n",
              "\n",
              "        [[-0.6631, -0.2513],\n",
              "         [ 0.1735, -0.0649],\n",
              "         [ 0.1685,  0.3348],\n",
              "         [-0.1621,  0.1765],\n",
              "         [-0.2312, -0.0436],\n",
              "         [-0.1015, -0.2855],\n",
              "         [-0.2593, -0.1630],\n",
              "         [-0.3015, -0.2293]],\n",
              "\n",
              "        [[ 1.6455, -0.8030],\n",
              "         [ 1.4985, -0.5395],\n",
              "         [ 0.4954,  0.3420],\n",
              "         [ 1.0623, -0.1802],\n",
              "         [ 1.1401, -0.4462],\n",
              "         [ 1.0870, -0.4071],\n",
              "         [ 1.0430, -0.1299],\n",
              "         [ 1.1138, -0.1641]]])"
            ]
          },
          "metadata": {},
          "execution_count": 22
        }
      ]
    },
    {
      "cell_type": "code",
      "source": [
        "# version 4: self-attention!\n",
        "torch.manual_seed(1337)\n",
        "B,T,C = 4,8,32 # batch, time, channels\n",
        "x = torch.randn(B,T,C)\n",
        "\n",
        "# let's see a single Head perform self-attention\n",
        "head_size = 16\n",
        "key = nn.Linear(C, head_size, bias=False)\n",
        "query = nn.Linear(C, head_size, bias=False)\n",
        "value = nn.Linear(C, head_size, bias=False)\n",
        "k = key(x)   # (B, T, 16)\n",
        "q = query(x) # (B, T, 16)\n",
        "wei =  q @ k.transpose(-2, -1) # (B, T, 16) @ (B, 16, T) ---> (B, T, T)\n",
        "\n",
        "tril = torch.tril(torch.ones(T, T))\n",
        "#wei = torch.zeros((T,T))\n",
        "wei = wei.masked_fill(tril == 0, float('-inf'))\n",
        "wei = F.softmax(wei, dim=-1)\n",
        "\n",
        "v = value(x)\n",
        "out = wei @ v\n",
        "#out = wei @ x\n",
        "\n",
        "out.shape"
      ],
      "metadata": {
        "id": "K3w4XljxPhT4",
        "colab": {
          "base_uri": "https://localhost:8080/"
        },
        "outputId": "260d7727-ff91-46b9-b52d-5a853cb12c8a"
      },
      "execution_count": 23,
      "outputs": [
        {
          "output_type": "execute_result",
          "data": {
            "text/plain": [
              "torch.Size([4, 8, 16])"
            ]
          },
          "metadata": {},
          "execution_count": 23
        }
      ]
    },
    {
      "cell_type": "code",
      "source": [
        "k = torch.randn(B,T,head_size)\n",
        "q = torch.randn(B,T,head_size)\n",
        "wei = q @ k.transpose(-2, -1) * head_size**-0.5"
      ],
      "metadata": {
        "id": "EdjVyEtPt1VD"
      },
      "execution_count": 24,
      "outputs": []
    },
    {
      "cell_type": "code",
      "source": [
        "k.var()"
      ],
      "metadata": {
        "colab": {
          "base_uri": "https://localhost:8080/"
        },
        "id": "Nl6I9n9IRTSo",
        "outputId": "f1d13cbd-828c-43df-8423-b7645a872a4e"
      },
      "execution_count": 25,
      "outputs": [
        {
          "output_type": "execute_result",
          "data": {
            "text/plain": [
              "tensor(1.0449)"
            ]
          },
          "metadata": {},
          "execution_count": 25
        }
      ]
    },
    {
      "cell_type": "code",
      "source": [
        "q.var()"
      ],
      "metadata": {
        "colab": {
          "base_uri": "https://localhost:8080/"
        },
        "id": "Xr4m5duyuKLz",
        "outputId": "9c9ae56e-a3d7-4ff9-ca60-414ac7f1891f"
      },
      "execution_count": 26,
      "outputs": [
        {
          "output_type": "execute_result",
          "data": {
            "text/plain": [
              "tensor(1.0700)"
            ]
          },
          "metadata": {},
          "execution_count": 26
        }
      ]
    },
    {
      "cell_type": "code",
      "source": [
        "wei.var()"
      ],
      "metadata": {
        "colab": {
          "base_uri": "https://localhost:8080/"
        },
        "id": "T4yKDkK3uLI1",
        "outputId": "3b8a09b6-8e56-4f98-ef06-0d4d4ce10acf"
      },
      "execution_count": 27,
      "outputs": [
        {
          "output_type": "execute_result",
          "data": {
            "text/plain": [
              "tensor(1.0918)"
            ]
          },
          "metadata": {},
          "execution_count": 27
        }
      ]
    },
    {
      "cell_type": "code",
      "source": [
        "class LayerNorm1d:\n",
        "\n",
        "  def __init__(self, dim, eps=1e-5, momentum=0.1):\n",
        "    self.eps = eps\n",
        "    self.gamma = torch.ones(dim)\n",
        "    self.beta = torch.zeros(dim)\n",
        "\n",
        "  def __call__(self, x):\n",
        "    # calculate the forward pass\n",
        "    xmean = x.mean(1, keepdim=True) # batch mean\n",
        "    xvar = x.var(1, keepdim=True) # batch variance\n",
        "    xhat = (x - xmean) / torch.sqrt(xvar + self.eps) # normalize to unit variance\n",
        "    self.out = self.gamma * xhat + self.beta\n",
        "    return self.out\n",
        "\n",
        "  def parameters(self):\n",
        "    return [self.gamma, self.beta]\n",
        "\n",
        "torch.manual_seed(1337)\n",
        "module = LayerNorm1d(100)\n",
        "x = torch.randn(32, 100) # batch size 32 of 100-dimensional vectors\n",
        "x = module(x)\n",
        "x.shape"
      ],
      "metadata": {
        "colab": {
          "base_uri": "https://localhost:8080/"
        },
        "id": "aWGWSEUMuNOn",
        "outputId": "b7e172d2-c1c3-4ad5-9497-f895f5110bfd"
      },
      "execution_count": 28,
      "outputs": [
        {
          "output_type": "execute_result",
          "data": {
            "text/plain": [
              "torch.Size([32, 100])"
            ]
          },
          "metadata": {},
          "execution_count": 28
        }
      ]
    },
    {
      "cell_type": "code",
      "source": [
        "x[:,0].mean(), x[:,0].std() # mean,std of one feature across all batch inputs"
      ],
      "metadata": {
        "colab": {
          "base_uri": "https://localhost:8080/"
        },
        "id": "YEd8IkhbuiBm",
        "outputId": "6af6923c-3152-4447-8cc0-3b0d1de82a23"
      },
      "execution_count": 29,
      "outputs": [
        {
          "output_type": "execute_result",
          "data": {
            "text/plain": [
              "(tensor(0.1469), tensor(0.8803))"
            ]
          },
          "metadata": {},
          "execution_count": 29
        }
      ]
    },
    {
      "cell_type": "code",
      "source": [
        "x[0,:].mean(), x[0,:].std() # mean,std of a single input from the batch, of its features"
      ],
      "metadata": {
        "colab": {
          "base_uri": "https://localhost:8080/"
        },
        "id": "vHnb53KNukot",
        "outputId": "ad841d17-a15c-44cc-a77b-caec4a39fd99"
      },
      "execution_count": 30,
      "outputs": [
        {
          "output_type": "execute_result",
          "data": {
            "text/plain": [
              "(tensor(-9.5367e-09), tensor(1.0000))"
            ]
          },
          "metadata": {},
          "execution_count": 30
        }
      ]
    },
    {
      "cell_type": "code",
      "source": [
        "import torch\n",
        "import torch.nn as nn\n",
        "from torch.nn import functional as F\n",
        "\n",
        "# hyperparameters\n",
        "batch_size = 16 # how many independent sequences will we process in parallel?\n",
        "block_size = 32 # what is the maximum context length for predictions?\n",
        "max_iters = 5000\n",
        "eval_interval = 100\n",
        "learning_rate = 1e-3\n",
        "device = 'cuda' if torch.cuda.is_available() else 'cpu'\n",
        "eval_iters = 200\n",
        "n_embd = 64\n",
        "n_head = 4\n",
        "n_layer = 4\n",
        "dropout = 0.0\n",
        "# ------------\n",
        "\n",
        "torch.manual_seed(1337)\n",
        "\n",
        "# wget https://raw.githubusercontent.com/karpathy/char-rnn/master/data/tinyshakespeare/input.txt\n",
        "with open('Translation.txt', 'r', encoding='utf-8') as f:\n",
        "    text = f.read()\n",
        "\n",
        "# here are all the unique characters that occur in this text\n",
        "chars = sorted(list(set(text)))\n",
        "vocab_size = len(chars)\n",
        "# create a mapping from characters to integers\n",
        "stoi = { ch:i for i,ch in enumerate(chars) }\n",
        "itos = { i:ch for i,ch in enumerate(chars) }\n",
        "encode = lambda s: [stoi[c] for c in s] # encoder: take a string, output a list of integers\n",
        "decode = lambda l: ''.join([itos[i] for i in l]) # decoder: take a list of integers, output a string\n",
        "\n",
        "# Train and test splits\n",
        "data = torch.tensor(encode(text), dtype=torch.long)\n",
        "n = int(0.9*len(data)) # first 90% will be train, rest val\n",
        "train_data = data[:n]\n",
        "val_data = data[n:]\n",
        "\n",
        "# data loading\n",
        "def get_batch(split):\n",
        "    # generate a small batch of data of inputs x and targets y\n",
        "    data = train_data if split == 'train' else val_data\n",
        "    ix = torch.randint(len(data) - block_size, (batch_size,))\n",
        "    x = torch.stack([data[i:i+block_size] for i in ix])\n",
        "    y = torch.stack([data[i+1:i+block_size+1] for i in ix])\n",
        "    x, y = x.to(device), y.to(device)\n",
        "    return x, y\n",
        "\n",
        "@torch.no_grad()\n",
        "def estimate_loss():\n",
        "    out = {}\n",
        "    model.eval()\n",
        "    for split in ['train', 'val']:\n",
        "        losses = torch.zeros(eval_iters)\n",
        "        for k in range(eval_iters):\n",
        "            X, Y = get_batch(split)\n",
        "            logits, loss = model(X, Y)\n",
        "            losses[k] = loss.item()\n",
        "        out[split] = losses.mean()\n",
        "    model.train()\n",
        "    return out\n",
        "\n",
        "class Head(nn.Module):\n",
        "    \"\"\" one head of self-attention \"\"\"\n",
        "\n",
        "    def __init__(self, head_size):\n",
        "        super().__init__()\n",
        "        self.key = nn.Linear(n_embd, head_size, bias=False)\n",
        "        self.query = nn.Linear(n_embd, head_size, bias=False)\n",
        "        self.value = nn.Linear(n_embd, head_size, bias=False)\n",
        "        self.register_buffer('tril', torch.tril(torch.ones(block_size, block_size)))\n",
        "\n",
        "        self.dropout = nn.Dropout(dropout)\n",
        "\n",
        "    def forward(self, x):\n",
        "        B,T,C = x.shape\n",
        "        k = self.key(x)   # (B,T,C)\n",
        "        q = self.query(x) # (B,T,C)\n",
        "        # compute attention scores (\"affinities\")\n",
        "        wei = q @ k.transpose(-2,-1) * C**-0.5 # (B, T, C) @ (B, C, T) -> (B, T, T)\n",
        "        wei = wei.masked_fill(self.tril[:T, :T] == 0, float('-inf')) # (B, T, T)\n",
        "        wei = F.softmax(wei, dim=-1) # (B, T, T)\n",
        "        wei = self.dropout(wei)\n",
        "        # perform the weighted aggregation of the values\n",
        "        v = self.value(x) # (B,T,C)\n",
        "        out = wei @ v # (B, T, T) @ (B, T, C) -> (B, T, C)\n",
        "        return out\n",
        "\n",
        "class MultiHeadAttention(nn.Module):\n",
        "    \"\"\" multiple heads of self-attention in parallel \"\"\"\n",
        "\n",
        "    def __init__(self, num_heads, head_size):\n",
        "        super().__init__()\n",
        "        self.heads = nn.ModuleList([Head(head_size) for _ in range(num_heads)])\n",
        "        self.proj = nn.Linear(n_embd, n_embd)\n",
        "        self.dropout = nn.Dropout(dropout)\n",
        "\n",
        "    def forward(self, x):\n",
        "        out = torch.cat([h(x) for h in self.heads], dim=-1)\n",
        "        out = self.dropout(self.proj(out))\n",
        "        return out\n",
        "\n",
        "class FeedFoward(nn.Module):\n",
        "    \"\"\" a simple linear layer followed by a non-linearity \"\"\"\n",
        "\n",
        "    def __init__(self, n_embd):\n",
        "        super().__init__()\n",
        "        self.net = nn.Sequential(\n",
        "            nn.Linear(n_embd, 4 * n_embd),\n",
        "            nn.ReLU(),\n",
        "            nn.Linear(4 * n_embd, n_embd),\n",
        "            nn.Dropout(dropout),\n",
        "        )\n",
        "\n",
        "    def forward(self, x):\n",
        "        return self.net(x)\n",
        "\n",
        "class Block(nn.Module):\n",
        "    \"\"\" Transformer block: communication followed by computation \"\"\"\n",
        "\n",
        "    def __init__(self, n_embd, n_head):\n",
        "        # n_embd: embedding dimension, n_head: the number of heads we'd like\n",
        "        super().__init__()\n",
        "        head_size = n_embd // n_head\n",
        "        self.sa = MultiHeadAttention(n_head, head_size)\n",
        "        self.ffwd = FeedFoward(n_embd)\n",
        "        self.ln1 = nn.LayerNorm(n_embd)\n",
        "        self.ln2 = nn.LayerNorm(n_embd)\n",
        "\n",
        "    def forward(self, x):\n",
        "        x = x + self.sa(self.ln1(x))\n",
        "        x = x + self.ffwd(self.ln2(x))\n",
        "        return x\n",
        "\n",
        "# super simple bigram model\n",
        "class BigramLanguageModel(nn.Module):\n",
        "\n",
        "    def __init__(self):\n",
        "        super().__init__()\n",
        "        # each token directly reads off the logits for the next token from a lookup table\n",
        "        self.token_embedding_table = nn.Embedding(vocab_size, n_embd)\n",
        "        self.position_embedding_table = nn.Embedding(block_size, n_embd)\n",
        "        self.blocks = nn.Sequential(*[Block(n_embd, n_head=n_head) for _ in range(n_layer)])\n",
        "        self.ln_f = nn.LayerNorm(n_embd) # final layer norm\n",
        "        self.lm_head = nn.Linear(n_embd, vocab_size)\n",
        "\n",
        "    def forward(self, idx, targets=None):\n",
        "        B, T = idx.shape\n",
        "\n",
        "        # idx and targets are both (B,T) tensor of integers\n",
        "        tok_emb = self.token_embedding_table(idx) # (B,T,C)\n",
        "        pos_emb = self.position_embedding_table(torch.arange(T, device=device)) # (T,C)\n",
        "        x = tok_emb + pos_emb # (B,T,C)\n",
        "        x = self.blocks(x) # (B,T,C)\n",
        "        x = self.ln_f(x) # (B,T,C)\n",
        "        logits = self.lm_head(x) # (B,T,vocab_size)\n",
        "\n",
        "        if targets is None:\n",
        "            loss = None\n",
        "        else:\n",
        "            B, T, C = logits.shape\n",
        "            logits = logits.view(B*T, C)\n",
        "            targets = targets.view(B*T)\n",
        "            loss = F.cross_entropy(logits, targets)\n",
        "\n",
        "        return logits, loss\n",
        "\n",
        "    def generate(self, idx, max_new_tokens):\n",
        "        # idx is (B, T) array of indices in the current context\n",
        "        for _ in range(max_new_tokens):\n",
        "            # crop idx to the last block_size tokens\n",
        "            idx_cond = idx[:, -block_size:]\n",
        "            # get the predictions\n",
        "            logits, loss = self(idx_cond)\n",
        "            # focus only on the last time step\n",
        "            logits = logits[:, -1, :] # becomes (B, C)\n",
        "            # apply softmax to get probabilities\n",
        "            probs = F.softmax(logits, dim=-1) # (B, C)\n",
        "            # sample from the distribution\n",
        "            idx_next = torch.multinomial(probs, num_samples=1) # (B, 1)\n",
        "            # append sampled index to the running sequence\n",
        "            idx = torch.cat((idx, idx_next), dim=1) # (B, T+1)\n",
        "        return idx\n",
        "\n",
        "model = BigramLanguageModel()\n",
        "m = model.to(device)\n",
        "# print the number of parameters in the model\n",
        "print(sum(p.numel() for p in m.parameters())/1e6, 'M parameters')\n",
        "\n",
        "# create a PyTorch optimizer\n",
        "optimizer = torch.optim.AdamW(model.parameters(), lr=learning_rate)\n",
        "\n",
        "for iter in range(max_iters):\n",
        "\n",
        "    # every once in a while evaluate the loss on train and val sets\n",
        "    if iter % eval_interval == 0 or iter == max_iters - 1:\n",
        "        losses = estimate_loss()\n",
        "        print(f\"step {iter}: train loss {losses['train']:.4f}, val loss {losses['val']:.4f}\")\n",
        "\n",
        "    # sample a batch of data\n",
        "    xb, yb = get_batch('train')\n",
        "\n",
        "    # evaluate the loss\n",
        "    logits, loss = model(xb, yb)\n",
        "    optimizer.zero_grad(set_to_none=True)\n",
        "    loss.backward()\n",
        "    optimizer.step()\n",
        "\n",
        "# generate from the model\n",
        "context = torch.zeros((1, 1), dtype=torch.long, device=device)\n",
        "print(decode(m.generate(context, max_new_tokens=2000)[0].tolist()))\n"
      ],
      "metadata": {
        "id": "13fzerl3usxK",
        "colab": {
          "base_uri": "https://localhost:8080/"
        },
        "outputId": "0e6e7685-91f2-4936-be56-4dc6630c347a"
      },
      "execution_count": null,
      "outputs": [
        {
          "output_type": "stream",
          "name": "stdout",
          "text": [
            "0.221339 M parameters\n",
            "step 0: train loss 5.2131, val loss 5.2097\n",
            "step 100: train loss 2.8827, val loss 2.7368\n",
            "step 200: train loss 2.6103, val loss 2.5171\n",
            "step 300: train loss 2.4925, val loss 2.4084\n",
            "step 400: train loss 2.3855, val loss 2.3177\n",
            "step 500: train loss 2.2817, val loss 2.2099\n",
            "step 600: train loss 2.1599, val loss 2.1402\n",
            "step 700: train loss 2.0699, val loss 2.0469\n",
            "step 800: train loss 1.9706, val loss 1.9941\n",
            "step 900: train loss 1.8797, val loss 1.8963\n",
            "step 1000: train loss 1.8193, val loss 1.8677\n",
            "step 1100: train loss 1.7678, val loss 1.8046\n",
            "step 1200: train loss 1.7022, val loss 1.7858\n",
            "step 1300: train loss 1.6711, val loss 1.7436\n",
            "step 1400: train loss 1.6381, val loss 1.7657\n",
            "step 1500: train loss 1.5931, val loss 1.7295\n",
            "step 1600: train loss 1.5501, val loss 1.6991\n",
            "step 1700: train loss 1.5144, val loss 1.6642\n",
            "step 1800: train loss 1.4907, val loss 1.6796\n",
            "step 1900: train loss 1.4454, val loss 1.6667\n",
            "step 2000: train loss 1.4385, val loss 1.6461\n",
            "step 2100: train loss 1.3806, val loss 1.6626\n",
            "step 2200: train loss 1.3757, val loss 1.6424\n",
            "step 2300: train loss 1.3584, val loss 1.6227\n",
            "step 2400: train loss 1.3393, val loss 1.6303\n",
            "step 2500: train loss 1.3098, val loss 1.6205\n",
            "step 2600: train loss 1.3059, val loss 1.6265\n",
            "step 2700: train loss 1.2698, val loss 1.6174\n",
            "step 2800: train loss 1.2686, val loss 1.6058\n"
          ]
        }
      ]
    },
    {
      "cell_type": "code",
      "source": [],
      "metadata": {
        "id": "vG04Fpt5Vec3"
      },
      "execution_count": null,
      "outputs": []
    }
  ]
}